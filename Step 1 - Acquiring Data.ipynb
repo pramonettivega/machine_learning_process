{
 "cells": [
  {
   "cell_type": "markdown",
   "id": "5b74997b-d320-4096-9225-2ac330923cd3",
   "metadata": {},
   "source": [
    "# Step 1 - Acquiring Data\n",
    "\n",
    "In this module, we will start our process to develop a model. The very first process is to obtain our data, and there are multiple ways to do that, depending on the type of data you're working on. By the end of this module, you would be able to:\n",
    "\n",
    "* Identify multiple sources of data\n",
    "* Identify different formats in which data can be found\n",
    "* Use multiple Python libraries to collect data"
   ]
  },
  {
   "cell_type": "code",
   "execution_count": 4,
   "id": "ec200e86-e68d-44a5-bdaf-a6f99a5c08b4",
   "metadata": {},
   "outputs": [],
   "source": [
    "import sqlite3\n",
    "import requests\n",
    "import pandas as pd\n",
    "from bs4 import BeautifulSoup"
   ]
  },
  {
   "cell_type": "markdown",
   "id": "8364208c-31ff-4930-b465-9230974bf9a8",
   "metadata": {},
   "source": [
    "## Using traditional data formats\n",
    "\n",
    "### Text files"
   ]
  },
  {
   "cell_type": "code",
   "execution_count": null,
   "id": "a968a302-2bd3-4e5b-b5ec-bdf39df1ea73",
   "metadata": {},
   "outputs": [],
   "source": []
  },
  {
   "cell_type": "markdown",
   "id": "3f338e68-8747-4ab9-8aa4-12dbac4d5be4",
   "metadata": {},
   "source": [
    "### CSV Files"
   ]
  },
  {
   "cell_type": "code",
   "execution_count": 17,
   "id": "7c3c1d01-2f36-4eb1-be63-63b3654a25ac",
   "metadata": {},
   "outputs": [
    {
     "data": {
      "text/html": [
       "<div>\n",
       "<style scoped>\n",
       "    .dataframe tbody tr th:only-of-type {\n",
       "        vertical-align: middle;\n",
       "    }\n",
       "\n",
       "    .dataframe tbody tr th {\n",
       "        vertical-align: top;\n",
       "    }\n",
       "\n",
       "    .dataframe thead th {\n",
       "        text-align: right;\n",
       "    }\n",
       "</style>\n",
       "<table border=\"1\" class=\"dataframe\">\n",
       "  <thead>\n",
       "    <tr style=\"text-align: right;\">\n",
       "      <th></th>\n",
       "      <th>DR_NO</th>\n",
       "      <th>Date Rptd</th>\n",
       "      <th>DATE OCC</th>\n",
       "      <th>TIME OCC</th>\n",
       "      <th>AREA</th>\n",
       "      <th>AREA NAME</th>\n",
       "      <th>Rpt Dist No</th>\n",
       "      <th>Part 1-2</th>\n",
       "      <th>Crm Cd</th>\n",
       "      <th>Crm Cd Desc</th>\n",
       "      <th>...</th>\n",
       "      <th>Status</th>\n",
       "      <th>Status Desc</th>\n",
       "      <th>Crm Cd 1</th>\n",
       "      <th>Crm Cd 2</th>\n",
       "      <th>Crm Cd 3</th>\n",
       "      <th>Crm Cd 4</th>\n",
       "      <th>LOCATION</th>\n",
       "      <th>Cross Street</th>\n",
       "      <th>LAT</th>\n",
       "      <th>LON</th>\n",
       "    </tr>\n",
       "  </thead>\n",
       "  <tbody>\n",
       "    <tr>\n",
       "      <th>0</th>\n",
       "      <td>10304468</td>\n",
       "      <td>01/08/2020 12:00:00 AM</td>\n",
       "      <td>01/08/2020 12:00:00 AM</td>\n",
       "      <td>2230</td>\n",
       "      <td>3</td>\n",
       "      <td>Southwest</td>\n",
       "      <td>377</td>\n",
       "      <td>2</td>\n",
       "      <td>624</td>\n",
       "      <td>BATTERY - SIMPLE ASSAULT</td>\n",
       "      <td>...</td>\n",
       "      <td>AO</td>\n",
       "      <td>Adult Other</td>\n",
       "      <td>624.0</td>\n",
       "      <td>NaN</td>\n",
       "      <td>NaN</td>\n",
       "      <td>NaN</td>\n",
       "      <td>1100 W  39TH                         PL</td>\n",
       "      <td>NaN</td>\n",
       "      <td>34.0141</td>\n",
       "      <td>-118.2978</td>\n",
       "    </tr>\n",
       "    <tr>\n",
       "      <th>1</th>\n",
       "      <td>190101086</td>\n",
       "      <td>01/02/2020 12:00:00 AM</td>\n",
       "      <td>01/01/2020 12:00:00 AM</td>\n",
       "      <td>330</td>\n",
       "      <td>1</td>\n",
       "      <td>Central</td>\n",
       "      <td>163</td>\n",
       "      <td>2</td>\n",
       "      <td>624</td>\n",
       "      <td>BATTERY - SIMPLE ASSAULT</td>\n",
       "      <td>...</td>\n",
       "      <td>IC</td>\n",
       "      <td>Invest Cont</td>\n",
       "      <td>624.0</td>\n",
       "      <td>NaN</td>\n",
       "      <td>NaN</td>\n",
       "      <td>NaN</td>\n",
       "      <td>700 S  HILL                         ST</td>\n",
       "      <td>NaN</td>\n",
       "      <td>34.0459</td>\n",
       "      <td>-118.2545</td>\n",
       "    </tr>\n",
       "    <tr>\n",
       "      <th>2</th>\n",
       "      <td>200110444</td>\n",
       "      <td>04/14/2020 12:00:00 AM</td>\n",
       "      <td>02/13/2020 12:00:00 AM</td>\n",
       "      <td>1200</td>\n",
       "      <td>1</td>\n",
       "      <td>Central</td>\n",
       "      <td>155</td>\n",
       "      <td>2</td>\n",
       "      <td>845</td>\n",
       "      <td>SEX OFFENDER REGISTRANT OUT OF COMPLIANCE</td>\n",
       "      <td>...</td>\n",
       "      <td>AA</td>\n",
       "      <td>Adult Arrest</td>\n",
       "      <td>845.0</td>\n",
       "      <td>NaN</td>\n",
       "      <td>NaN</td>\n",
       "      <td>NaN</td>\n",
       "      <td>200 E  6TH                          ST</td>\n",
       "      <td>NaN</td>\n",
       "      <td>34.0448</td>\n",
       "      <td>-118.2474</td>\n",
       "    </tr>\n",
       "    <tr>\n",
       "      <th>3</th>\n",
       "      <td>191501505</td>\n",
       "      <td>01/01/2020 12:00:00 AM</td>\n",
       "      <td>01/01/2020 12:00:00 AM</td>\n",
       "      <td>1730</td>\n",
       "      <td>15</td>\n",
       "      <td>N Hollywood</td>\n",
       "      <td>1543</td>\n",
       "      <td>2</td>\n",
       "      <td>745</td>\n",
       "      <td>VANDALISM - MISDEAMEANOR ($399 OR UNDER)</td>\n",
       "      <td>...</td>\n",
       "      <td>IC</td>\n",
       "      <td>Invest Cont</td>\n",
       "      <td>745.0</td>\n",
       "      <td>998.0</td>\n",
       "      <td>NaN</td>\n",
       "      <td>NaN</td>\n",
       "      <td>5400    CORTEEN                      PL</td>\n",
       "      <td>NaN</td>\n",
       "      <td>34.1685</td>\n",
       "      <td>-118.4019</td>\n",
       "    </tr>\n",
       "    <tr>\n",
       "      <th>4</th>\n",
       "      <td>191921269</td>\n",
       "      <td>01/01/2020 12:00:00 AM</td>\n",
       "      <td>01/01/2020 12:00:00 AM</td>\n",
       "      <td>415</td>\n",
       "      <td>19</td>\n",
       "      <td>Mission</td>\n",
       "      <td>1998</td>\n",
       "      <td>2</td>\n",
       "      <td>740</td>\n",
       "      <td>VANDALISM - FELONY ($400 &amp; OVER, ALL CHURCH VA...</td>\n",
       "      <td>...</td>\n",
       "      <td>IC</td>\n",
       "      <td>Invest Cont</td>\n",
       "      <td>740.0</td>\n",
       "      <td>NaN</td>\n",
       "      <td>NaN</td>\n",
       "      <td>NaN</td>\n",
       "      <td>14400    TITUS                        ST</td>\n",
       "      <td>NaN</td>\n",
       "      <td>34.2198</td>\n",
       "      <td>-118.4468</td>\n",
       "    </tr>\n",
       "  </tbody>\n",
       "</table>\n",
       "<p>5 rows × 28 columns</p>\n",
       "</div>"
      ],
      "text/plain": [
       "       DR_NO               Date Rptd                DATE OCC  TIME OCC  AREA  \\\n",
       "0   10304468  01/08/2020 12:00:00 AM  01/08/2020 12:00:00 AM      2230     3   \n",
       "1  190101086  01/02/2020 12:00:00 AM  01/01/2020 12:00:00 AM       330     1   \n",
       "2  200110444  04/14/2020 12:00:00 AM  02/13/2020 12:00:00 AM      1200     1   \n",
       "3  191501505  01/01/2020 12:00:00 AM  01/01/2020 12:00:00 AM      1730    15   \n",
       "4  191921269  01/01/2020 12:00:00 AM  01/01/2020 12:00:00 AM       415    19   \n",
       "\n",
       "     AREA NAME  Rpt Dist No  Part 1-2  Crm Cd  \\\n",
       "0    Southwest          377         2     624   \n",
       "1      Central          163         2     624   \n",
       "2      Central          155         2     845   \n",
       "3  N Hollywood         1543         2     745   \n",
       "4      Mission         1998         2     740   \n",
       "\n",
       "                                         Crm Cd Desc  ... Status  \\\n",
       "0                           BATTERY - SIMPLE ASSAULT  ...     AO   \n",
       "1                           BATTERY - SIMPLE ASSAULT  ...     IC   \n",
       "2          SEX OFFENDER REGISTRANT OUT OF COMPLIANCE  ...     AA   \n",
       "3           VANDALISM - MISDEAMEANOR ($399 OR UNDER)  ...     IC   \n",
       "4  VANDALISM - FELONY ($400 & OVER, ALL CHURCH VA...  ...     IC   \n",
       "\n",
       "    Status Desc Crm Cd 1 Crm Cd 2  Crm Cd 3 Crm Cd 4  \\\n",
       "0   Adult Other    624.0      NaN       NaN      NaN   \n",
       "1   Invest Cont    624.0      NaN       NaN      NaN   \n",
       "2  Adult Arrest    845.0      NaN       NaN      NaN   \n",
       "3   Invest Cont    745.0    998.0       NaN      NaN   \n",
       "4   Invest Cont    740.0      NaN       NaN      NaN   \n",
       "\n",
       "                                   LOCATION Cross Street      LAT       LON  \n",
       "0   1100 W  39TH                         PL          NaN  34.0141 -118.2978  \n",
       "1    700 S  HILL                         ST          NaN  34.0459 -118.2545  \n",
       "2    200 E  6TH                          ST          NaN  34.0448 -118.2474  \n",
       "3   5400    CORTEEN                      PL          NaN  34.1685 -118.4019  \n",
       "4  14400    TITUS                        ST          NaN  34.2198 -118.4468  \n",
       "\n",
       "[5 rows x 28 columns]"
      ]
     },
     "execution_count": 17,
     "metadata": {},
     "output_type": "execute_result"
    }
   ],
   "source": [
    "# Loading a csv file example https://catalog.data.gov/dataset/crime-data-from-2020-to-present\n",
    "\n",
    "crime_df = pd.read_csv(\"data/Crime_Data_from_2020_to_Present.csv\")\n",
    "crime_df.head()"
   ]
  },
  {
   "cell_type": "markdown",
   "id": "fffd2426-86c1-4747-a91b-32bdd4c030d9",
   "metadata": {},
   "source": [
    "## Accessing traditional databases\n",
    "\n",
    "Sometimes, data already comes in a database format, which can be accessed databases follow a relational database model, which is a structure.\n",
    "\n",
    "The default language to connect with a relational database and retrieve data from it is the **Structured Query Language (SQL)**. In Python, you can perform SQL queries through the [sqlite3](https://docs.python.org/3/library/sqlite3.html) library. In the following cells, we will execute some queries using the Chinook database. You can learn more about this dataset on this [link](https://github.com/lerocha/chinook-database)"
   ]
  },
  {
   "cell_type": "code",
   "execution_count": 5,
   "id": "98cbc33b-fed6-4ca6-89b2-c606be51626e",
   "metadata": {},
   "outputs": [
    {
     "data": {
      "text/plain": [
       "[('Album',),\n",
       " ('Artist',),\n",
       " ('Customer',),\n",
       " ('Employee',),\n",
       " ('Genre',),\n",
       " ('Invoice',),\n",
       " ('InvoiceLine',),\n",
       " ('MediaType',),\n",
       " ('Playlist',),\n",
       " ('PlaylistTrack',),\n",
       " ('Track',)]"
      ]
     },
     "execution_count": 5,
     "metadata": {},
     "output_type": "execute_result"
    }
   ],
   "source": [
    "# First, we establish a connection with the database\n",
    "conn = sqlite3.connect(\"data/Chinook_Sqlite.sqlite\")\n",
    "\n",
    "# The next step is to create cursor object to interact with the database\n",
    "cursor = conn.cursor()\n",
    "\n",
    "# The very first query that we will execute, will show the different tables that are part of our database\n",
    "cursor.execute(\"SELECT name FROM sqlite_master WHERE type='table';\")\n",
    "\n",
    "# Now, we fetch the results\n",
    "tables = cursor.fetchall()\n",
    "tables"
   ]
  },
  {
   "cell_type": "markdown",
   "id": "1798ffc1-dcb9-45f7-b5dc-d254451d7fad",
   "metadata": {},
   "source": [
    "As we can see, we have multiple tables in our database. Let's now perform some example queries."
   ]
  },
  {
   "cell_type": "code",
   "execution_count": 6,
   "id": "f05d697b-8062-4dd7-beba-31b053287e5c",
   "metadata": {},
   "outputs": [
    {
     "data": {
      "text/plain": [
       "[(0, 'CustomerId', 'INTEGER', 1, None, 1),\n",
       " (1, 'FirstName', 'NVARCHAR(40)', 1, None, 0),\n",
       " (2, 'LastName', 'NVARCHAR(20)', 1, None, 0),\n",
       " (3, 'Company', 'NVARCHAR(80)', 0, None, 0),\n",
       " (4, 'Address', 'NVARCHAR(70)', 0, None, 0),\n",
       " (5, 'City', 'NVARCHAR(40)', 0, None, 0),\n",
       " (6, 'State', 'NVARCHAR(40)', 0, None, 0),\n",
       " (7, 'Country', 'NVARCHAR(40)', 0, None, 0),\n",
       " (8, 'PostalCode', 'NVARCHAR(10)', 0, None, 0),\n",
       " (9, 'Phone', 'NVARCHAR(24)', 0, None, 0),\n",
       " (10, 'Fax', 'NVARCHAR(24)', 0, None, 0),\n",
       " (11, 'Email', 'NVARCHAR(60)', 1, None, 0),\n",
       " (12, 'SupportRepId', 'INTEGER', 0, None, 0)]"
      ]
     },
     "execution_count": 6,
     "metadata": {},
     "output_type": "execute_result"
    }
   ],
   "source": [
    "# Retrieve all the rows information from the Album table\n",
    "cursor.execute(\"PRAGMA table_info(Customer);\")\n",
    "columns = cursor.fetchall()\n",
    "columns"
   ]
  },
  {
   "cell_type": "code",
   "execution_count": 7,
   "id": "8d3183cd-61b6-4b9b-9198-65f820e6a07f",
   "metadata": {},
   "outputs": [
    {
     "data": {
      "text/plain": [
       "[(1,\n",
       "  'Luís',\n",
       "  'Gonçalves',\n",
       "  'Embraer - Empresa Brasileira de Aeronáutica S.A.',\n",
       "  'Av. Brigadeiro Faria Lima, 2170',\n",
       "  'São José dos Campos',\n",
       "  'SP',\n",
       "  'Brazil',\n",
       "  '12227-000',\n",
       "  '+55 (12) 3923-5555',\n",
       "  '+55 (12) 3923-5566',\n",
       "  'luisg@embraer.com.br',\n",
       "  3),\n",
       " (2,\n",
       "  'Leonie',\n",
       "  'Köhler',\n",
       "  None,\n",
       "  'Theodor-Heuss-Straße 34',\n",
       "  'Stuttgart',\n",
       "  None,\n",
       "  'Germany',\n",
       "  '70174',\n",
       "  '+49 0711 2842222',\n",
       "  None,\n",
       "  'leonekohler@surfeu.de',\n",
       "  5),\n",
       " (3,\n",
       "  'François',\n",
       "  'Tremblay',\n",
       "  None,\n",
       "  '1498 rue Bélanger',\n",
       "  'Montréal',\n",
       "  'QC',\n",
       "  'Canada',\n",
       "  'H2G 1A7',\n",
       "  '+1 (514) 721-4711',\n",
       "  None,\n",
       "  'ftremblay@gmail.com',\n",
       "  3)]"
      ]
     },
     "execution_count": 7,
     "metadata": {},
     "output_type": "execute_result"
    }
   ],
   "source": [
    "# Select the first 3 rows of the Customer table\n",
    "cursor.execute(\"SELECT * FROM Customer LIMIT 3;\")\n",
    "rows = cursor.fetchall()\n",
    "rows"
   ]
  },
  {
   "cell_type": "code",
   "execution_count": 8,
   "id": "cbc5f483-8258-41f1-b436-26e190ec8069",
   "metadata": {},
   "outputs": [
    {
     "data": {
      "text/plain": [
       "[('Leonie', 'leonekohler@surfeu.de'),\n",
       " ('Hannah', 'hannah.schneider@yahoo.de'),\n",
       " ('Fynn', 'fzimmermann@yahoo.de'),\n",
       " ('Niklas', 'nschroder@surfeu.de')]"
      ]
     },
     "execution_count": 8,
     "metadata": {},
     "output_type": "execute_result"
    }
   ],
   "source": [
    "# Select the Name and email of the Customers where Country = Germany\n",
    "cursor.execute(\"SELECT FirstName, Email FROM Customer WHERE Country = 'Germany'\")\n",
    "names = cursor.fetchall()\n",
    "names"
   ]
  },
  {
   "cell_type": "code",
   "execution_count": 9,
   "id": "59dbc91a-56de-4471-a97e-375b92b14309",
   "metadata": {},
   "outputs": [
    {
     "data": {
      "text/plain": [
       "[(404,\n",
       "  6,\n",
       "  '2013-11-13 00:00:00',\n",
       "  'Rilská 3174/6',\n",
       "  'Prague',\n",
       "  None,\n",
       "  'Czech Republic',\n",
       "  '14300',\n",
       "  25.86),\n",
       " (299,\n",
       "  26,\n",
       "  '2012-08-05 00:00:00',\n",
       "  '2211 W Berry Street',\n",
       "  'Fort Worth',\n",
       "  'TX',\n",
       "  'USA',\n",
       "  '76110',\n",
       "  23.86),\n",
       " (96,\n",
       "  45,\n",
       "  '2010-02-18 00:00:00',\n",
       "  'Erzsébet krt. 58.',\n",
       "  'Budapest',\n",
       "  None,\n",
       "  'Hungary',\n",
       "  'H-1073',\n",
       "  21.86)]"
      ]
     },
     "execution_count": 9,
     "metadata": {},
     "output_type": "execute_result"
    }
   ],
   "source": [
    "# Select the top 3 invoices where the total was equal or higher than 10.\n",
    "cursor.execute(\"SELECT * FROM Invoice WHERE Total >= 10 ORDER BY Total DESC LIMIT 3\")\n",
    "invoices = cursor.fetchall()\n",
    "invoices"
   ]
  },
  {
   "cell_type": "markdown",
   "id": "2b61d595-4fef-4e20-93a5-b3f9de7242d4",
   "metadata": {},
   "source": [
    "We have performed a few SQL queries to give you a sense on how to retrieve data from a traditional database. However, this is not a SQL focused module. If you want to learn more SQL, you can follow some of the following links:\n",
    "\n",
    "* [Geeks for Geeks](https://www.geeksforgeeks.org/sql-tutorial/)\n",
    "* [Khan Academy](https://www.khanacademy.org/computing/computer-programming/sql)\n",
    "* [W3 Schools](https://www.w3schools.com/sql/)"
   ]
  },
  {
   "cell_type": "markdown",
   "id": "d9cb49c4-7276-42e4-a715-edd5062f919b",
   "metadata": {},
   "source": [
    "## Accessing NoSQL databases\n",
    "\n",
    "Many open databases follow a non-relational format or NoSQL. Most of these databases follow a [JSON](https://en.wikipedia.org/wiki/JSON) format and can be accessed through the use of an [API](https://en.wikipedia.org/wiki/API). \n",
    "\n",
    "Let's look an example on how to retrieve a database through an API. For the following example, we are going to use the OpenWeather platform, which offers updated weather data for multiple locations around the world.\n",
    "\n",
    "In most of the cases, in order to retrieve data, you need first to obtain an API key, so the server can recognize you as a validate user and allow you to collect the data. OpenWeather is not the exception. Before starting the coding section, you'll need to create an account to obtain an API key:\n",
    "* [OpenWeather Sign Up](https://home.openweathermap.org/users/sign_up)"
   ]
  },
  {
   "cell_type": "code",
   "execution_count": 10,
   "id": "70393010-db77-4acd-b237-8d754e3b1536",
   "metadata": {},
   "outputs": [
    {
     "data": {
      "text/plain": [
       "{'coord': {'lon': -117.1573, 'lat': 32.7153},\n",
       " 'weather': [{'id': 803,\n",
       "   'main': 'Clouds',\n",
       "   'description': 'broken clouds',\n",
       "   'icon': '04d'}],\n",
       " 'base': 'stations',\n",
       " 'main': {'temp': 293.08,\n",
       "  'feels_like': 293.09,\n",
       "  'temp_min': 290.79,\n",
       "  'temp_max': 296.04,\n",
       "  'pressure': 1015,\n",
       "  'humidity': 75},\n",
       " 'visibility': 10000,\n",
       " 'wind': {'speed': 6.17, 'deg': 270},\n",
       " 'clouds': {'all': 75},\n",
       " 'dt': 1699398433,\n",
       " 'sys': {'type': 1,\n",
       "  'id': 5771,\n",
       "  'country': 'US',\n",
       "  'sunrise': 1699366283,\n",
       "  'sunset': 1699404795},\n",
       " 'timezone': -28800,\n",
       " 'id': 5391811,\n",
       " 'name': 'San Diego',\n",
       " 'cod': 200}"
      ]
     },
     "execution_count": 10,
     "metadata": {},
     "output_type": "execute_result"
    }
   ],
   "source": [
    "# Collecting Weather Data from OpenWeather\n",
    "api_key = \"4722cd5944f586c5451f6e105a65e129\" # Replace with you API Key\n",
    "\n",
    "# For this example, we are only going to retrieve today's weather data for the city of San Diego\n",
    "city = 'San Diego' # You can test with a different city\n",
    "country = 'US'\n",
    "\n",
    "url = f'http://api.openweathermap.org/data/2.5/weather?q={city},{country}&appid={api_key}'\n",
    "\n",
    "# Send a GET request\n",
    "response = requests.get(url)\n",
    "\n",
    "if response.status_code == 200: # We verify that our request was successful\n",
    "    data = response.json()\n",
    "else:\n",
    "    print(response.status_code) # In case our request was not successful, we return the status code\n",
    "data"
   ]
  },
  {
   "cell_type": "markdown",
   "id": "6e21d02b-fcf1-4009-ad64-81780d92b42b",
   "metadata": {},
   "source": [
    "As you can see, we collected our data in JSON format. However, this data is hard to work with in the current format. Let's do some transformations to use the data we need in a Pandas Dataframe."
   ]
  },
  {
   "cell_type": "code",
   "execution_count": 11,
   "id": "a7368f79-e3fb-4a25-b937-4f57e84f02aa",
   "metadata": {},
   "outputs": [
    {
     "data": {
      "text/html": [
       "<div>\n",
       "<style scoped>\n",
       "    .dataframe tbody tr th:only-of-type {\n",
       "        vertical-align: middle;\n",
       "    }\n",
       "\n",
       "    .dataframe tbody tr th {\n",
       "        vertical-align: top;\n",
       "    }\n",
       "\n",
       "    .dataframe thead th {\n",
       "        text-align: right;\n",
       "    }\n",
       "</style>\n",
       "<table border=\"1\" class=\"dataframe\">\n",
       "  <thead>\n",
       "    <tr style=\"text-align: right;\">\n",
       "      <th></th>\n",
       "      <th>City</th>\n",
       "      <th>Country</th>\n",
       "      <th>Temperature (Celsius)</th>\n",
       "      <th>Humidity (%)</th>\n",
       "      <th>Description</th>\n",
       "    </tr>\n",
       "  </thead>\n",
       "  <tbody>\n",
       "    <tr>\n",
       "      <th>0</th>\n",
       "      <td>San Diego</td>\n",
       "      <td>US</td>\n",
       "      <td>19.93</td>\n",
       "      <td>75</td>\n",
       "      <td>broken clouds</td>\n",
       "    </tr>\n",
       "  </tbody>\n",
       "</table>\n",
       "</div>"
      ],
      "text/plain": [
       "        City Country  Temperature (Celsius)  Humidity (%)    Description\n",
       "0  San Diego      US                  19.93            75  broken clouds"
      ]
     },
     "execution_count": 11,
     "metadata": {},
     "output_type": "execute_result"
    }
   ],
   "source": [
    "# We are going to keep the name of the city, country, temperature, humidity and the description of the weather \n",
    "weather_data = {\n",
    "        'City': data['name'],\n",
    "        'Country': data['sys']['country'],\n",
    "        'Temperature (Celsius)': data['main']['temp'] - 273.15,  # Data comes in Kelvin by default. We convert to Celsius.\n",
    "        'Humidity (%)': data['main']['humidity'],\n",
    "        'Description': data['weather'][0]['description']\n",
    "    }\n",
    "\n",
    "# Create a Pandas DataFrame\n",
    "df = pd.DataFrame([weather_data])\n",
    "df"
   ]
  },
  {
   "cell_type": "markdown",
   "id": "7f165856-ea75-4969-9c95-356a0c339275",
   "metadata": {},
   "source": [
    "Much better!\n",
    "\n",
    "In this example, we only collected data for a single city. However, you can think of a case in which you could retrieve a lot of cities for multiple dates and build a huge dataset.\n",
    "\n",
    "## Web-Scrapping\n",
    "\n",
    "Another way to collect data is through Web-Scrapping, which refers to the technique of directly collecting data from websites. A common python library to perform this task is [BeautifulSoup](https://www.crummy.com/software/BeautifulSoup/bs4/doc/) \n",
    "\n",
    "Imagine for example, that you wanted to analyze the sentiment and narrative of some of the most important news websites through the titles of their articles. In the following code, we are going to collect all the article titles from the BBC News main page. "
   ]
  },
  {
   "cell_type": "code",
   "execution_count": 12,
   "id": "085b2c30-ce33-449a-b6bf-574f115039df",
   "metadata": {},
   "outputs": [
    {
     "name": "stdout",
     "output_type": "stream",
     "text": [
      "Israel says its troops are 'in the heart of Gaza City'\n",
      "Israel says its troops are 'in the heart of Gaza City'\n",
      "Gaza journalist killed alongside 42 relatives, news agency says\n",
      "What to watch for in today's US elections\n",
      "Supreme Court to decide if domestic abusers can have guns\n",
      "Why Trump may have deliberately provoked judge\n",
      "'I blew the whistle on Meta, now I won't work again'\n",
      "Poet Rupi Kaur rejects White House invite over Gaza\n",
      "What to expect from the third Republican debate\n",
      "Birthday gift grenade kills Ukraine army chief aide\n",
      "Jewish man's death at US protests ruled a homicide\n",
      "Hunter Biden investigator denies political meddling\n",
      "Jewish man's death at US protests ruled a homicide\n",
      "Hunter Biden investigator denies political meddling\n",
      "First images revealed from 'dark Universe' mission\n",
      "Christie's sells rare blue diamond for over $40m\n",
      "Deer soars over two cars in New Jersey\n",
      "Netanyahu hints at control of Gaza after war\n",
      "Canadian chooses to stay in Gaza to document war\n",
      "Civilians leave northern Gaza along evacuation corridor\n",
      "Israeli air strikes rock residential buildings in al-Zahra\n",
      "Israeli archaeologists help find attack victims\n",
      "The reality of passive income streams\n",
      "BBC World News TV\n",
      "BBC World Service Radio\n",
      "'Nicolas Cage at his darkly comic best'\n",
      "Who is Black Rod? Centuries-old role at heart of Parliament\n",
      "'Yes, you're good enough - but you're a girl'\n",
      "Chinese tourists are back - but not in Thailand\n",
      "'Being a hyped, buzzy band can be a bit of a curse'\n",
      "Daily pill to prevent breast cancer approved in England\n",
      "Playing Prince Harry: wig, accent - and no suntan\n",
      "Global wine production falls to 62-year low\n",
      "Disney stands by London bombing scenes in new drama\n",
      "Cruise passengers 'feared for their lives' in storm\n",
      "Johnson wanted to be injected with Covid, inquiry told\n",
      "Former child star Evan Ellingson dies at 35\n",
      "Can AI really be regulated?\n",
      "The reality of passive income streams\n",
      "A new life for Europe's 'dirty' city\n",
      "'Nicolas Cage at his darkly comic best'\n",
      "How bubble veils muffle wind farm noise\n",
      "Spotify's big audiobooks move\n",
      "Is this the taste of Diwali?\n",
      "Haaland scores twice as Man City reach knockouts\n",
      "Shakhtar Donetsk stun Barcelona in Hamburg\n",
      "Dortmund dent Newcastle's qualification hopes\n",
      "Atletico Madrid hit 10-man Celtic for six\n",
      "Is Maxwell's 'miracle' the greatest men's ODI innings?\n",
      "England 'unprofessional' over alleged racial slur\n",
      "'Committed' Rashford returns to Man Utd squad\n"
     ]
    }
   ],
   "source": [
    "# Web-Scrapping job to collect the titles of the news.\n",
    "url = 'https://www.bbc.com/news'\n",
    "response = requests.get(url)\n",
    "\n",
    "if response.status_code == 200:\n",
    "    soup = BeautifulSoup(response.text, 'html.parser') # We are creating a HTML parser over the text of our response\n",
    "    article_titles = soup.find_all('h3', class_='gs-c-promo-heading__title')\n",
    "    for title in article_titles:\n",
    "        print(title.text)\n",
    "else:\n",
    "    print(response.status_code)"
   ]
  },
  {
   "cell_type": "markdown",
   "id": "ba03a2d6-4de2-43f4-b492-98728d05ba94",
   "metadata": {},
   "source": [
    "You can think of more extended versions of the previous task, like extracting the full articles and extracting data from multiple news sites."
   ]
  }
 ],
 "metadata": {
  "kernelspec": {
   "display_name": "Python 3 (ipykernel)",
   "language": "python",
   "name": "python3"
  },
  "language_info": {
   "codemirror_mode": {
    "name": "ipython",
    "version": 3
   },
   "file_extension": ".py",
   "mimetype": "text/x-python",
   "name": "python",
   "nbconvert_exporter": "python",
   "pygments_lexer": "ipython3",
   "version": "3.11.6"
  }
 },
 "nbformat": 4,
 "nbformat_minor": 5
}
