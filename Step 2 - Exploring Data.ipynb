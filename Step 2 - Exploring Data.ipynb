{
 "cells": [
  {
   "cell_type": "markdown",
   "id": "9d04d2b3-891f-42fb-ad00-2b54db559f62",
   "metadata": {},
   "source": [
    "# Step 2 - Exploring Data\n",
    "\n",
    "On the previous module you learned a series of techniques and tools for data acquisition. Once we have acquired our data, our very next step is to explore it to identify trends, correlations, errors and/or discrepancies. By the end of this courselet, you will be able to:\n",
    "\n",
    "1. Recognize the importance of exploring data\n",
    "2. Use different visualization methods for data exploration\n",
    "3. Identify the most appropiate analysis method according to your type of data.\n",
    "\n",
    "For this module, we are going to use datasets from the [UC Irvine Machine Learning Repository](https://archive.ics.uci.edu/). In order to access these data, we need to install to previously install the ucimlrepo library. "
   ]
  },
  {
   "cell_type": "code",
   "execution_count": null,
   "id": "c972b095-9e38-4141-9268-450075a5eb3b",
   "metadata": {},
   "outputs": [],
   "source": [
    "#NOTE: Start by running the next cell. If the cell indicates that geopandas, seaborn or ucimlrepo do not exist, \n",
    "#remove the comment marks and run the code to install the libraries\n",
    "\n",
    "#!pip install geopandas\n",
    "#!pip install seaborn\n",
    "#!pip install ucimlrepo\n"
   ]
  },
  {
   "cell_type": "code",
   "execution_count": null,
   "id": "3a2e1c8e-9f7e-42a2-b2b8-ac6be560ec60",
   "metadata": {},
   "outputs": [],
   "source": [
    "# We load our libraries\n",
    "import pandas as pd\n",
    "import geopandas as gpd\n",
    "import numpy as np \n",
    "import matplotlib.pyplot as plt\n",
    "import seaborn as sns\n",
    "from ucimlrepo import fetch_ucirepo"
   ]
  },
  {
   "cell_type": "markdown",
   "id": "8e57d1ae-2dea-4672-8c88-2866c973a33f",
   "metadata": {},
   "source": [
    "### Descriptive Statistics\n",
    "\n",
    "Descriptive statistics are useful when we want to get an overall understanding of our continous features. Also, they are helpful to warn us regarding potential data erorrs. For example, we can identify some weird data patterns if the mean or median of some feature is very unusual (think for example, having a population in which the mean weight is 400 pounds). \n",
    "\n",
    "The easiest way to collect descriptive statistics with Pandas is through the use of the *describe* method. For this task, we are going to use the *wine quality* dataset, which contains a sample of wine quality scores along with the main features of each wine."
   ]
  },
  {
   "cell_type": "code",
   "execution_count": null,
   "id": "8982761b-74ff-4cc6-bfa8-b1d269075b2c",
   "metadata": {},
   "outputs": [],
   "source": [
    "# fetch dataset - https://archive.ics.uci.edu/dataset/186/wine+quality\n",
    "wine_quality = fetch_ucirepo(id=186) \n",
    "X = wine_quality.data.features \n",
    "y = wine_quality.data.targets \n",
    "# Print the features\n",
    "X.columns"
   ]
  },
  {
   "cell_type": "code",
   "execution_count": null,
   "id": "8861243c-8a41-4d20-9f44-81d3b6c6cbfb",
   "metadata": {},
   "outputs": [],
   "source": [
    "# Descriptive statistics for the predictive features.\n",
    "X.describe()"
   ]
  },
  {
   "cell_type": "markdown",
   "id": "e4b6a784-30f0-4c00-81f9-5749282b9a54",
   "metadata": {},
   "source": [
    "## Visualizing our data\n",
    "\n",
    "A powerful technique to get a quick and effective method to look at our data is the use of visualization techniques. There are multiple types of visualizations, and each of them provide different information from our data. Let's explore some of them. \n",
    "\n",
    "### Histogram\n",
    "\n",
    "Use a histogram when you want to see how the data is distributed."
   ]
  },
  {
   "cell_type": "code",
   "execution_count": null,
   "id": "c0d57dbf-fb55-410d-8606-92e197f88ada",
   "metadata": {},
   "outputs": [],
   "source": [
    "# Histogram\n",
    "plt.hist(X['pH'], bins=20, color='green', edgecolor='black')\n",
    "\n",
    "# Add labels and a title\n",
    "plt.xlabel('pH')\n",
    "plt.ylabel('Frequency')\n",
    "plt.title('Histogram Example')\n",
    "\n",
    "# Show the histogram\n",
    "plt.show()"
   ]
  },
  {
   "cell_type": "markdown",
   "id": "2b60a2fe-5cf2-454a-a25d-b744e0f51f92",
   "metadata": {},
   "source": [
    "### Boxplot\n",
    "\n",
    "Use boxplots when you want to visualize descriptive statistics of continous features, as well as potential outliers."
   ]
  },
  {
   "cell_type": "code",
   "execution_count": null,
   "id": "cd9277fb-dba1-4839-aad4-727b1f808fa2",
   "metadata": {},
   "outputs": [],
   "source": [
    "# Boxplot\n",
    "for column in X.columns:\n",
    "    plt.figure()  # Create a new figure for each boxplot\n",
    "    plt.boxplot(X[column])\n",
    "    plt.title(f'Boxplot of {column}')\n",
    "    plt.xlabel('Data')\n",
    "    plt.ylabel('Values')\n",
    "    plt.show()\n"
   ]
  },
  {
   "cell_type": "markdown",
   "id": "f7fb3d0e-e75d-442d-bb09-19902e385a6d",
   "metadata": {},
   "source": [
    "### Scatterplot\n",
    "\n",
    "Use a scatterplot to identify potential correlations within features."
   ]
  },
  {
   "cell_type": "code",
   "execution_count": null,
   "id": "2872682e-fbac-4cd4-81ee-13a39ee4cb22",
   "metadata": {},
   "outputs": [],
   "source": [
    "# Scatterplot\n",
    "plt.scatter(X['alcohol'], X['density'], label='Scatter Plot', color='blue', marker='o')\n",
    "\n",
    "plt.xlabel('Alcohol')\n",
    "plt.ylabel('Sulphates')\n",
    "plt.title('Scatter Plot Example')\n",
    "\n",
    "# Add a legend\n",
    "plt.legend()\n",
    "\n",
    "# Show the scatter plot\n",
    "plt.show()"
   ]
  },
  {
   "cell_type": "code",
   "execution_count": null,
   "id": "911c2ba5-c566-4a95-aeb6-50044952411d",
   "metadata": {
    "scrolled": true
   },
   "outputs": [],
   "source": [
    "# Scatterplot Grid\n",
    "fig, axes = plt.subplots(4, 4, figsize=(15, 15)) # We are only using 4 features for visualization purposes.\n",
    "for i in range(4):\n",
    "    for j in range(4):\n",
    "        ax = axes[i, j]\n",
    "        if i == j:\n",
    "            ax.text(0.5, 0.5, X.columns[i], ha='center', va='center', fontsize=15) \n",
    "        else:\n",
    "            x = X.columns[i]\n",
    "            y = X.columns[j]\n",
    "            ax.scatter(X[x], X[y], label=\"data\",color='blue', marker='o', s=10)\n",
    "            ax.legend()\n",
    "\n",
    "# Adjust layout for better visibility\n",
    "plt.tight_layout()\n",
    "\n",
    "# Show the grid of scatterplots\n",
    "plt.show()\n"
   ]
  },
  {
   "cell_type": "markdown",
   "id": "2cba7692-766a-428c-89b9-b5763a035eb6",
   "metadata": {},
   "source": [
    "### Line Graphs\n",
    "\n",
    "Use a line graph when you want to see the trend of a time series over time. For this chart, we are going to use a new dataset. This data represents the collection of air monitoring from an Air Quality Chemical Multisensor Device in an Italian city. For this simple excercise, we are going to plot the collected temperature of air over time."
   ]
  },
  {
   "cell_type": "code",
   "execution_count": null,
   "id": "4a5690ca-b2b3-439a-bbd6-ddb451cbd033",
   "metadata": {},
   "outputs": [],
   "source": [
    "# Time Series dataset - https://archive.ics.uci.edu/dataset/360/air+quality\n",
    "air_quality = fetch_ucirepo(id=360) \n",
    "ts = air_quality.data.features"
   ]
  },
  {
   "cell_type": "code",
   "execution_count": null,
   "id": "5cd915b5-7141-4dc0-b52d-339c586d18fa",
   "metadata": {},
   "outputs": [],
   "source": [
    "# Line Graphs\n",
    "ts['Datetime'] = pd.to_datetime(ts['Date'] + ' ' + ts['Time'])\n",
    "\n",
    "# Extract 'Datetime' and 'Temperature' column data\n",
    "datetime = ts['Datetime']\n",
    "temperature = ts['T']\n",
    "\n",
    "# Create a line chart\n",
    "plt.figure(figsize=(10, 6))\n",
    "plt.plot(datetime, temperature, color='blue', label='Temperature', alpha=0.7, lw=2)  \n",
    "plt.title('Line Chart of temperature')\n",
    "plt.xlabel('Date and Time')\n",
    "plt.ylabel('Celsius Degrees')\n",
    "plt.legend()\n",
    "plt.grid(True)\n",
    "plt.xticks(rotation=45) \n",
    "\n",
    "# Show the line chart\n",
    "plt.tight_layout()\n",
    "plt.show()"
   ]
  },
  {
   "cell_type": "markdown",
   "id": "4683bff5-e7b7-4be2-a6dd-02738711bf86",
   "metadata": {},
   "source": [
    "One of the first things that might catch your attenttion with this series is the fact that we have multiple dates for which the registered temperature on air is -200 degrees celsius, which is physically impossible to occur. How should we threat these data points? That's a topic for the module. "
   ]
  },
  {
   "cell_type": "markdown",
   "id": "6ad69392-b3b4-46ca-ae48-8710ea4efab9",
   "metadata": {},
   "source": [
    "### Heatmap\n",
    "\n",
    "Use a heatmap as a tool to explore a geographical region and understand your data's behavior across your region of interest. \n",
    "\n",
    "For this visualization, we are going to use open data from the [Chicago Data Portal](https://data.cityofchicago.org/). We are going to display the crime rate distribution across the city's neigborhoods to identify neighborhoods with the highest crime rates."
   ]
  },
  {
   "cell_type": "code",
   "execution_count": null,
   "id": "a84b6896-f3bd-4189-8f74-ce6393f65786",
   "metadata": {},
   "outputs": [],
   "source": [
    "# Heatmap\n",
    "\n",
    "# First, we load Chicago community areas shapefile\n",
    "neighborhoods = gpd.read_file('https://data.cityofchicago.org/api/geospatial/cauq-8yn6?method=export&format=Shapefile')\n",
    "\n",
    "# Now we load Chicago's crime data (replace 'your_crime_data.csv' with your dataset)\n",
    "crime_data = pd.read_csv('https://data.cityofchicago.org/resource/ijzp-q8t2.csv')\n",
    "\n",
    "# We need to do a few steps to combine data\n",
    "crime_data = crime_data[['community_area', 'primary_type']]\n",
    "crime_count_by_neighborhood = crime_data['community_area'].value_counts().reset_index()\n",
    "crime_count_by_neighborhood.columns = ['Community Area', 'Crime Count']\n",
    "neighborhoods['area_numbe'] = neighborhoods['area_numbe'].astype('int64')\n",
    "neighborhoods = neighborhoods.merge(crime_count_by_neighborhood, left_on='area_numbe', right_on='Community Area', how='left')\n",
    "\n",
    "# Fill NaN values with 0 (no crime data)\n",
    "neighborhoods['Crime Count'].fillna(0, inplace=True)\n",
    "\n",
    "# Calculate the average crime rate per neighborhood\n",
    "neighborhoods['Crime Rate'] = neighborhoods['Crime Count'] / neighborhoods['Crime Count'].sum()\n",
    "\n",
    "# Plot the Chicago neighborhoods heatmap based on average crime rate\n",
    "fig, ax = plt.subplots(1, 1, figsize=(12, 8))\n",
    "neighborhoods.plot(column='Crime Rate', cmap='YlOrRd', edgecolor='k', legend=True, ax=ax)\n",
    "ax.set_title('Chicago Neighborhoods Heatmap - Average Crime Rate')\n",
    "ax.axis('off')\n",
    "plt.show()"
   ]
  }
 ],
 "metadata": {
  "kernelspec": {
   "display_name": "Python 3 (ipykernel)",
   "language": "python",
   "name": "python3"
  },
  "language_info": {
   "codemirror_mode": {
    "name": "ipython",
    "version": 3
   },
   "file_extension": ".py",
   "mimetype": "text/x-python",
   "name": "python",
   "nbconvert_exporter": "python",
   "pygments_lexer": "ipython3",
   "version": "3.11.6"
  }
 },
 "nbformat": 4,
 "nbformat_minor": 5
}
