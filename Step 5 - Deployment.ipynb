{
 "cells": [
  {
   "cell_type": "markdown",
   "id": "8dfcd59b-11eb-471d-9ca5-1014a7b5a982",
   "metadata": {},
   "source": [
    "# Step 5 - Deployment"
   ]
  },
  {
   "cell_type": "code",
   "execution_count": null,
   "id": "756a56e1-9f03-4fc8-9a6f-628cfe8c22e5",
   "metadata": {},
   "outputs": [],
   "source": []
  }
 ],
 "metadata": {
  "kernelspec": {
   "display_name": "Python 3 (ipykernel)",
   "language": "python",
   "name": "python3"
  },
  "language_info": {
   "codemirror_mode": {
    "name": "ipython",
    "version": 3
   },
   "file_extension": ".py",
   "mimetype": "text/x-python",
   "name": "python",
   "nbconvert_exporter": "python",
   "pygments_lexer": "ipython3",
   "version": "3.11.6"
  }
 },
 "nbformat": 4,
 "nbformat_minor": 5
}
